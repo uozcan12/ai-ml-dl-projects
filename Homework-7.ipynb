{
 "cells": [
  {
   "cell_type": "code",
   "execution_count": 1,
   "metadata": {},
   "outputs": [],
   "source": [
    "import numpy as np # linear algebra\n",
    "import pandas as pd # data processing, CSV file I/O (e.g. pd.read_csv)\n",
    "import matplotlib.pyplot as plt\n",
    "from tensorflow.keras.models import Sequential\n",
    "from tensorflow.keras.layers import Dense\n",
    "\n",
    "%matplotlib inline"
   ]
  },
  {
   "cell_type": "code",
   "execution_count": 2,
   "metadata": {},
   "outputs": [],
   "source": [
    "import tensorflow as tf\n",
    "from tensorflow.keras.datasets import boston_housing\n",
    "\n",
    "(train_data, train_targets), (test_data, test_targets) = boston_housing.load_data()"
   ]
  },
  {
   "cell_type": "code",
   "execution_count": 3,
   "metadata": {},
   "outputs": [
    {
     "name": "stdout",
     "output_type": "stream",
     "text": [
      "Training data : (404, 13)\n",
      "Test data : (102, 13)\n",
      "Training sample : [  1.23247   0.        8.14      0.        0.538     6.142    91.7\n",
      "   3.9769    4.      307.       21.      396.9      18.72   ]\n",
      "Training target sample : 15.2\n"
     ]
    }
   ],
   "source": [
    "# take a look at the data\n",
    "\n",
    "print(f'Training data : {train_data.shape}')\n",
    "print(f'Test data : {test_data.shape}')\n",
    "print(f'Training sample : {train_data[0]}')\n",
    "print(f'Training target sample : {train_targets[0]}')"
   ]
  },
  {
   "cell_type": "code",
   "execution_count": 4,
   "metadata": {},
   "outputs": [
    {
     "data": {
      "text/plain": [
       "array([[1.23247e+00, 0.00000e+00, 8.14000e+00, ..., 2.10000e+01,\n",
       "        3.96900e+02, 1.87200e+01],\n",
       "       [2.17700e-02, 8.25000e+01, 2.03000e+00, ..., 1.47000e+01,\n",
       "        3.95380e+02, 3.11000e+00],\n",
       "       [4.89822e+00, 0.00000e+00, 1.81000e+01, ..., 2.02000e+01,\n",
       "        3.75520e+02, 3.26000e+00],\n",
       "       ...,\n",
       "       [3.46600e-02, 3.50000e+01, 6.06000e+00, ..., 1.69000e+01,\n",
       "        3.62250e+02, 7.83000e+00],\n",
       "       [2.14918e+00, 0.00000e+00, 1.95800e+01, ..., 1.47000e+01,\n",
       "        2.61950e+02, 1.57900e+01],\n",
       "       [1.43900e-02, 6.00000e+01, 2.93000e+00, ..., 1.56000e+01,\n",
       "        3.76700e+02, 4.38000e+00]])"
      ]
     },
     "execution_count": 4,
     "metadata": {},
     "output_type": "execute_result"
    }
   ],
   "source": [
    "train_data"
   ]
  },
  {
   "cell_type": "code",
   "execution_count": 5,
   "metadata": {},
   "outputs": [
    {
     "name": "stdout",
     "output_type": "stream",
     "text": [
      "train_data 404\n",
      "train_targets 404\n",
      "test_data 102\n",
      "test_targets 102\n"
     ]
    }
   ],
   "source": [
    "print(\"train_data\", len(train_data))\n",
    "print(\"train_targets\", len(train_targets))\n",
    "print(\"test_data\", len(test_data))\n",
    "print(\"test_targets\", len(test_targets))"
   ]
  },
  {
   "cell_type": "code",
   "execution_count": 11,
   "metadata": {},
   "outputs": [],
   "source": [
    "X_train, y_train,  X_test, y_test = train_data, train_targets, test_data, test_targets\n"
   ]
  },
  {
   "cell_type": "code",
   "execution_count": 7,
   "metadata": {},
   "outputs": [],
   "source": [
    "# mean = train_data.mean(axis=0)\n",
    "# std = train_data.std(axis=0)\n",
    "# train_data = (train_data - mean) / std\n",
    "# test_data = (test_data- mean) / std"
   ]
  },
  {
   "cell_type": "code",
   "execution_count": 12,
   "metadata": {},
   "outputs": [
    {
     "name": "stdout",
     "output_type": "stream",
     "text": [
      "Model: \"sequential_1\"\n",
      "_________________________________________________________________\n",
      "Layer (type)                 Output Shape              Param #   \n",
      "=================================================================\n",
      "dense_1 (Dense)              (None, 128)               1792      \n",
      "_________________________________________________________________\n",
      "dense_2 (Dense)              (None, 64)                8256      \n",
      "_________________________________________________________________\n",
      "dense_output (Dense)         (None, 1)                 65        \n",
      "=================================================================\n",
      "Total params: 10,113\n",
      "Trainable params: 10,113\n",
      "Non-trainable params: 0\n",
      "_________________________________________________________________\n"
     ]
    }
   ],
   "source": [
    "#get number of columns in training data\n",
    "n_cols = X_train.shape[1]\n",
    "\n",
    "\n",
    "model = Sequential()\n",
    "model.add(Dense(128, input_shape=(n_cols, ), activation='relu', name='dense_1'))\n",
    "model.add(Dense(64, activation='relu', name='dense_2'))\n",
    "model.add(Dense(1, activation='linear', name='dense_output'))\n",
    "model.compile(optimizer='adam', loss='mse', metrics=['mae'])\n",
    "model.summary()"
   ]
  },
  {
   "cell_type": "code",
   "execution_count": 13,
   "metadata": {},
   "outputs": [
    {
     "name": "stdout",
     "output_type": "stream",
     "text": [
      "Epoch 1/100\n",
      "12/12 [==============================] - 0s 16ms/step - loss: 847.3053 - mae: 24.3399 - val_loss: 97.6649 - val_mae: 8.8640\n",
      "Epoch 2/100\n",
      "12/12 [==============================] - 0s 2ms/step - loss: 196.3406 - mae: 10.2872 - val_loss: 26.5782 - val_mae: 3.9559\n",
      "Epoch 3/100\n",
      "12/12 [==============================] - 0s 3ms/step - loss: 109.3005 - mae: 8.6870 - val_loss: 26.1048 - val_mae: 3.9501\n",
      "Epoch 4/100\n",
      "12/12 [==============================] - 0s 6ms/step - loss: 82.4230 - mae: 6.0675 - val_loss: 32.6103 - val_mae: 4.9517\n",
      "Epoch 5/100\n",
      "12/12 [==============================] - 0s 6ms/step - loss: 75.0731 - mae: 6.4578 - val_loss: 23.6547 - val_mae: 3.7012\n",
      "Epoch 6/100\n",
      "12/12 [==============================] - 0s 6ms/step - loss: 68.7579 - mae: 6.0368 - val_loss: 24.4013 - val_mae: 3.9742\n",
      "Epoch 7/100\n",
      "12/12 [==============================] - 0s 6ms/step - loss: 65.8817 - mae: 5.4807 - val_loss: 24.2757 - val_mae: 4.0770\n",
      "Epoch 8/100\n",
      "12/12 [==============================] - 0s 5ms/step - loss: 64.6203 - mae: 5.6102 - val_loss: 20.5789 - val_mae: 3.4597\n",
      "Epoch 9/100\n",
      "12/12 [==============================] - 0s 5ms/step - loss: 63.4353 - mae: 5.7227 - val_loss: 18.8052 - val_mae: 3.2096\n",
      "Epoch 10/100\n",
      "12/12 [==============================] - 0s 6ms/step - loss: 60.4206 - mae: 5.3580 - val_loss: 20.6471 - val_mae: 3.5490\n",
      "Epoch 11/100\n",
      "12/12 [==============================] - 0s 6ms/step - loss: 58.9160 - mae: 5.3083 - val_loss: 19.6636 - val_mae: 3.4211\n",
      "Epoch 12/100\n",
      "12/12 [==============================] - 0s 6ms/step - loss: 57.2354 - mae: 5.2567 - val_loss: 17.8838 - val_mae: 3.0647\n",
      "Epoch 13/100\n",
      "12/12 [==============================] - 0s 5ms/step - loss: 55.8747 - mae: 5.0956 - val_loss: 23.7827 - val_mae: 4.0837\n",
      "Epoch 14/100\n",
      "12/12 [==============================] - 0s 3ms/step - loss: 57.3957 - mae: 5.1692 - val_loss: 18.4792 - val_mae: 3.2058\n",
      "Epoch 15/100\n",
      "12/12 [==============================] - 0s 3ms/step - loss: 54.4286 - mae: 5.3105 - val_loss: 17.3613 - val_mae: 3.4692\n",
      "Epoch 16/100\n",
      "12/12 [==============================] - 0s 5ms/step - loss: 53.6044 - mae: 5.1962 - val_loss: 16.5174 - val_mae: 3.0563\n",
      "Epoch 17/100\n",
      "12/12 [==============================] - 0s 5ms/step - loss: 51.9685 - mae: 4.8038 - val_loss: 18.4838 - val_mae: 3.4566\n",
      "Epoch 18/100\n",
      "12/12 [==============================] - 0s 6ms/step - loss: 50.5017 - mae: 4.7436 - val_loss: 18.5097 - val_mae: 3.2994\n",
      "Epoch 19/100\n",
      "12/12 [==============================] - 0s 6ms/step - loss: 52.1762 - mae: 5.0941 - val_loss: 19.1089 - val_mae: 3.7853\n",
      "Epoch 20/100\n",
      "12/12 [==============================] - 0s 5ms/step - loss: 48.5473 - mae: 4.8844 - val_loss: 18.1555 - val_mae: 3.6315\n",
      "Epoch 21/100\n",
      "12/12 [==============================] - 0s 5ms/step - loss: 49.7485 - mae: 4.7747 - val_loss: 20.0674 - val_mae: 3.4602\n",
      "Epoch 22/100\n",
      "12/12 [==============================] - 0s 5ms/step - loss: 46.9861 - mae: 4.5894 - val_loss: 17.5579 - val_mae: 3.3990\n",
      "Epoch 23/100\n",
      "12/12 [==============================] - 0s 5ms/step - loss: 48.1428 - mae: 4.7706 - val_loss: 19.6985 - val_mae: 3.6467\n",
      "Epoch 24/100\n",
      "12/12 [==============================] - 0s 5ms/step - loss: 45.2014 - mae: 4.5788 - val_loss: 14.7124 - val_mae: 3.1016\n",
      "Epoch 25/100\n",
      "12/12 [==============================] - 0s 5ms/step - loss: 43.8595 - mae: 4.5300 - val_loss: 15.1630 - val_mae: 3.2848\n",
      "Epoch 26/100\n",
      "12/12 [==============================] - 0s 5ms/step - loss: 46.3844 - mae: 4.6689 - val_loss: 17.7273 - val_mae: 3.5372\n",
      "Epoch 27/100\n",
      "12/12 [==============================] - 0s 5ms/step - loss: 45.0990 - mae: 4.6315 - val_loss: 14.5491 - val_mae: 3.2101\n",
      "Epoch 28/100\n",
      "12/12 [==============================] - 0s 5ms/step - loss: 41.6400 - mae: 4.2943 - val_loss: 16.2974 - val_mae: 3.2131\n",
      "Epoch 29/100\n",
      "12/12 [==============================] - 0s 5ms/step - loss: 41.1359 - mae: 4.4424 - val_loss: 16.5011 - val_mae: 3.4876\n",
      "Epoch 30/100\n",
      "12/12 [==============================] - 0s 6ms/step - loss: 42.5792 - mae: 4.3865 - val_loss: 14.6501 - val_mae: 3.2398\n",
      "Epoch 31/100\n",
      "12/12 [==============================] - 0s 5ms/step - loss: 42.5758 - mae: 4.4060 - val_loss: 18.9400 - val_mae: 3.4234\n",
      "Epoch 32/100\n",
      "12/12 [==============================] - 0s 5ms/step - loss: 43.3207 - mae: 4.6911 - val_loss: 18.5444 - val_mae: 3.5596\n",
      "Epoch 33/100\n",
      "12/12 [==============================] - 0s 2ms/step - loss: 40.2795 - mae: 4.4471 - val_loss: 15.7261 - val_mae: 3.2873\n",
      "Epoch 34/100\n",
      "12/12 [==============================] - 0s 3ms/step - loss: 38.8295 - mae: 4.2847 - val_loss: 15.6414 - val_mae: 3.1989\n",
      "Epoch 35/100\n",
      "12/12 [==============================] - 0s 2ms/step - loss: 40.4588 - mae: 4.4445 - val_loss: 19.1868 - val_mae: 3.5935\n",
      "Epoch 36/100\n",
      "12/12 [==============================] - 0s 3ms/step - loss: 41.0714 - mae: 4.4597 - val_loss: 24.1873 - val_mae: 4.0321\n",
      "Epoch 37/100\n",
      "12/12 [==============================] - 0s 2ms/step - loss: 38.2622 - mae: 4.3570 - val_loss: 15.1611 - val_mae: 3.2182\n",
      "Epoch 38/100\n",
      "12/12 [==============================] - 0s 3ms/step - loss: 34.8845 - mae: 4.0558 - val_loss: 15.1335 - val_mae: 3.2541\n",
      "Epoch 39/100\n",
      "12/12 [==============================] - 0s 3ms/step - loss: 35.2793 - mae: 4.0034 - val_loss: 16.8781 - val_mae: 3.4742\n",
      "Epoch 40/100\n",
      "12/12 [==============================] - 0s 3ms/step - loss: 35.3909 - mae: 4.1412 - val_loss: 15.6099 - val_mae: 3.2019\n",
      "Epoch 41/100\n",
      "12/12 [==============================] - 0s 3ms/step - loss: 35.0338 - mae: 4.0890 - val_loss: 17.4194 - val_mae: 3.4286\n",
      "Epoch 42/100\n",
      "12/12 [==============================] - 0s 3ms/step - loss: 35.9600 - mae: 4.3244 - val_loss: 19.9879 - val_mae: 3.6144\n",
      "Epoch 43/100\n",
      "12/12 [==============================] - 0s 3ms/step - loss: 33.3051 - mae: 4.0059 - val_loss: 16.0981 - val_mae: 3.2463\n",
      "Epoch 44/100\n",
      "12/12 [==============================] - 0s 3ms/step - loss: 32.8063 - mae: 3.9748 - val_loss: 18.5438 - val_mae: 3.4829\n",
      "Epoch 45/100\n",
      "12/12 [==============================] - 0s 3ms/step - loss: 34.3383 - mae: 3.9909 - val_loss: 23.2673 - val_mae: 3.9513\n",
      "Epoch 46/100\n",
      "12/12 [==============================] - 0s 2ms/step - loss: 36.5875 - mae: 4.4768 - val_loss: 18.1688 - val_mae: 3.5165\n",
      "Epoch 47/100\n",
      "12/12 [==============================] - 0s 2ms/step - loss: 33.7654 - mae: 4.1114 - val_loss: 21.7135 - val_mae: 3.7678\n",
      "Epoch 48/100\n",
      "12/12 [==============================] - 0s 3ms/step - loss: 34.7798 - mae: 4.1124 - val_loss: 16.7015 - val_mae: 3.1773\n",
      "Epoch 49/100\n",
      "12/12 [==============================] - 0s 2ms/step - loss: 36.0525 - mae: 4.3659 - val_loss: 18.6348 - val_mae: 3.5056\n",
      "Epoch 50/100\n",
      "12/12 [==============================] - 0s 4ms/step - loss: 32.9628 - mae: 3.9923 - val_loss: 18.0171 - val_mae: 3.3827\n",
      "Epoch 51/100\n",
      "12/12 [==============================] - 0s 5ms/step - loss: 29.9618 - mae: 3.8645 - val_loss: 18.6324 - val_mae: 3.4246\n",
      "Epoch 52/100\n",
      "12/12 [==============================] - 0s 5ms/step - loss: 33.1991 - mae: 4.0445 - val_loss: 20.3698 - val_mae: 3.4442\n",
      "Epoch 53/100\n",
      "12/12 [==============================] - 0s 5ms/step - loss: 33.3306 - mae: 4.2319 - val_loss: 19.1009 - val_mae: 3.5130\n",
      "Epoch 54/100\n",
      "12/12 [==============================] - 0s 5ms/step - loss: 33.2476 - mae: 4.2259 - val_loss: 18.4613 - val_mae: 3.3930\n",
      "Epoch 55/100\n",
      "12/12 [==============================] - 0s 5ms/step - loss: 33.7195 - mae: 4.1336 - val_loss: 29.8415 - val_mae: 4.2891\n",
      "Epoch 56/100\n",
      "12/12 [==============================] - 0s 3ms/step - loss: 30.2642 - mae: 3.9630 - val_loss: 19.3739 - val_mae: 3.4486\n",
      "Epoch 57/100\n",
      "12/12 [==============================] - 0s 3ms/step - loss: 30.1513 - mae: 3.8070 - val_loss: 17.8103 - val_mae: 3.3766\n",
      "Epoch 58/100\n",
      "12/12 [==============================] - 0s 3ms/step - loss: 30.9079 - mae: 4.0128 - val_loss: 21.3554 - val_mae: 3.6304\n",
      "Epoch 59/100\n",
      "12/12 [==============================] - 0s 2ms/step - loss: 29.0396 - mae: 3.7485 - val_loss: 19.0715 - val_mae: 3.5669\n",
      "Epoch 60/100\n",
      "12/12 [==============================] - 0s 2ms/step - loss: 29.1232 - mae: 3.8230 - val_loss: 22.5258 - val_mae: 3.7056\n",
      "Epoch 61/100\n",
      "12/12 [==============================] - 0s 3ms/step - loss: 31.6023 - mae: 4.1018 - val_loss: 19.5410 - val_mae: 3.5574\n",
      "Epoch 62/100\n"
     ]
    },
    {
     "name": "stdout",
     "output_type": "stream",
     "text": [
      "12/12 [==============================] - 0s 4ms/step - loss: 31.1469 - mae: 4.0320 - val_loss: 23.0935 - val_mae: 4.0833\n",
      "Epoch 63/100\n",
      "12/12 [==============================] - 0s 4ms/step - loss: 28.4045 - mae: 3.7676 - val_loss: 20.0700 - val_mae: 3.4755\n",
      "Epoch 64/100\n",
      "12/12 [==============================] - 0s 4ms/step - loss: 28.6882 - mae: 3.8740 - val_loss: 22.9966 - val_mae: 3.6799\n",
      "Epoch 65/100\n",
      "12/12 [==============================] - 0s 5ms/step - loss: 28.6986 - mae: 3.8493 - val_loss: 27.5828 - val_mae: 3.9639\n",
      "Epoch 66/100\n",
      "12/12 [==============================] - 0s 5ms/step - loss: 28.7609 - mae: 3.8390 - val_loss: 23.4148 - val_mae: 3.7176\n",
      "Epoch 67/100\n",
      "12/12 [==============================] - 0s 5ms/step - loss: 31.3376 - mae: 4.0577 - val_loss: 31.4820 - val_mae: 4.5934\n",
      "Epoch 68/100\n",
      "12/12 [==============================] - 0s 5ms/step - loss: 33.3365 - mae: 4.2219 - val_loss: 21.8963 - val_mae: 3.7327\n",
      "Epoch 69/100\n",
      "12/12 [==============================] - 0s 5ms/step - loss: 29.3929 - mae: 3.9758 - val_loss: 30.7128 - val_mae: 4.3035\n",
      "Epoch 70/100\n",
      "12/12 [==============================] - 0s 5ms/step - loss: 29.9930 - mae: 3.9484 - val_loss: 25.6792 - val_mae: 3.8518\n",
      "Epoch 71/100\n",
      "12/12 [==============================] - 0s 5ms/step - loss: 29.9550 - mae: 3.9490 - val_loss: 21.1875 - val_mae: 3.7409\n",
      "Epoch 72/100\n",
      "12/12 [==============================] - 0s 4ms/step - loss: 30.1597 - mae: 4.0814 - val_loss: 25.8979 - val_mae: 3.9091\n",
      "Epoch 73/100\n",
      "12/12 [==============================] - 0s 4ms/step - loss: 28.0106 - mae: 3.7823 - val_loss: 22.1701 - val_mae: 3.6377\n",
      "Epoch 74/100\n",
      "12/12 [==============================] - 0s 5ms/step - loss: 26.8680 - mae: 3.7035 - val_loss: 19.2776 - val_mae: 3.3949\n",
      "Epoch 75/100\n",
      "12/12 [==============================] - 0s 5ms/step - loss: 28.2288 - mae: 3.8213 - val_loss: 22.2896 - val_mae: 3.6430\n",
      "Epoch 76/100\n",
      "12/12 [==============================] - 0s 5ms/step - loss: 31.9320 - mae: 4.0120 - val_loss: 27.8275 - val_mae: 4.0467\n",
      "Epoch 77/100\n",
      "12/12 [==============================] - 0s 5ms/step - loss: 32.2468 - mae: 4.1912 - val_loss: 23.9599 - val_mae: 3.9353\n",
      "Epoch 78/100\n",
      "12/12 [==============================] - 0s 5ms/step - loss: 28.8770 - mae: 3.9126 - val_loss: 31.8087 - val_mae: 4.2486\n",
      "Epoch 79/100\n",
      "12/12 [==============================] - 0s 5ms/step - loss: 27.8152 - mae: 3.8703 - val_loss: 21.9367 - val_mae: 3.6177\n",
      "Epoch 80/100\n",
      "12/12 [==============================] - 0s 5ms/step - loss: 26.1958 - mae: 3.7362 - val_loss: 20.9566 - val_mae: 3.6003\n",
      "Epoch 81/100\n",
      "12/12 [==============================] - 0s 5ms/step - loss: 27.5163 - mae: 3.8335 - val_loss: 21.4737 - val_mae: 3.4841\n",
      "Epoch 82/100\n",
      "12/12 [==============================] - 0s 5ms/step - loss: 25.6116 - mae: 3.6826 - val_loss: 29.5575 - val_mae: 4.2760\n",
      "Epoch 83/100\n",
      "12/12 [==============================] - 0s 5ms/step - loss: 28.7260 - mae: 3.7678 - val_loss: 20.2462 - val_mae: 3.4942\n",
      "Epoch 84/100\n",
      "12/12 [==============================] - 0s 5ms/step - loss: 28.1631 - mae: 3.9548 - val_loss: 24.5349 - val_mae: 3.8534\n",
      "Epoch 85/100\n",
      "12/12 [==============================] - 0s 5ms/step - loss: 26.3456 - mae: 3.6645 - val_loss: 26.4058 - val_mae: 3.9592\n",
      "Epoch 86/100\n",
      "12/12 [==============================] - 0s 5ms/step - loss: 26.6821 - mae: 3.7180 - val_loss: 21.0135 - val_mae: 3.4870\n",
      "Epoch 87/100\n",
      "12/12 [==============================] - 0s 5ms/step - loss: 25.7153 - mae: 3.5430 - val_loss: 22.9567 - val_mae: 3.9246\n",
      "Epoch 88/100\n",
      "12/12 [==============================] - 0s 5ms/step - loss: 28.8301 - mae: 3.9470 - val_loss: 20.9353 - val_mae: 3.6619\n",
      "Epoch 89/100\n",
      "12/12 [==============================] - 0s 5ms/step - loss: 29.5822 - mae: 4.0831 - val_loss: 29.5449 - val_mae: 4.0090\n",
      "Epoch 90/100\n",
      "12/12 [==============================] - 0s 5ms/step - loss: 26.1946 - mae: 3.6955 - val_loss: 21.0525 - val_mae: 3.5270\n",
      "Epoch 91/100\n",
      "12/12 [==============================] - 0s 5ms/step - loss: 27.8408 - mae: 3.8879 - val_loss: 22.2964 - val_mae: 3.5147\n",
      "Epoch 92/100\n",
      "12/12 [==============================] - 0s 5ms/step - loss: 23.7876 - mae: 3.4944 - val_loss: 21.4802 - val_mae: 3.5365\n",
      "Epoch 93/100\n",
      "12/12 [==============================] - 0s 2ms/step - loss: 27.0952 - mae: 3.9264 - val_loss: 30.0288 - val_mae: 4.0027\n",
      "Epoch 94/100\n",
      "12/12 [==============================] - 0s 3ms/step - loss: 27.0230 - mae: 3.6964 - val_loss: 28.7886 - val_mae: 4.2635\n",
      "Epoch 95/100\n",
      "12/12 [==============================] - 0s 3ms/step - loss: 25.3805 - mae: 3.6544 - val_loss: 17.9977 - val_mae: 3.1101\n",
      "Epoch 96/100\n",
      "12/12 [==============================] - 0s 5ms/step - loss: 23.1003 - mae: 3.4817 - val_loss: 21.2047 - val_mae: 3.5529\n",
      "Epoch 97/100\n",
      "12/12 [==============================] - 0s 5ms/step - loss: 25.8269 - mae: 3.8121 - val_loss: 22.0591 - val_mae: 3.5270\n",
      "Epoch 98/100\n",
      "12/12 [==============================] - 0s 5ms/step - loss: 24.5901 - mae: 3.5305 - val_loss: 24.1255 - val_mae: 3.7010\n",
      "Epoch 99/100\n",
      "12/12 [==============================] - 0s 5ms/step - loss: 26.7026 - mae: 3.8024 - val_loss: 21.3871 - val_mae: 3.3738\n",
      "Epoch 100/100\n",
      "12/12 [==============================] - 0s 5ms/step - loss: 30.1803 - mae: 4.0915 - val_loss: 21.1940 - val_mae: 3.6202\n"
     ]
    }
   ],
   "source": [
    "history = model.fit(X_train, y_train, epochs=100, validation_split=0.05)"
   ]
  },
  {
   "cell_type": "code",
   "execution_count": 14,
   "metadata": {},
   "outputs": [
    {
     "data": {
      "image/png": "[encoded data removed]",
      "text/plain": [
       "<Figure size 432x288 with 1 Axes>"
      ]
     },
     "metadata": {
      "needs_background": "light"
     },
     "output_type": "display_data"
    }
   ],
   "source": [
    "import matplotlib.pyplot as plt\n",
    "# Plot history: MAE\n",
    "plt.plot(history.history['loss'], label='loss (training data)')\n",
    "plt.plot(history.history['val_loss'], label='val_loss (validation data)')\n",
    "plt.title('Churn Data')\n",
    "plt.ylabel('Loss')\n",
    "plt.xlabel('No. epoch')\n",
    "plt.legend(loc=\"upper left\")\n",
    "plt.show()"
   ]
  },
  {
   "cell_type": "code",
   "execution_count": 15,
   "metadata": {},
   "outputs": [
    {
     "name": "stdout",
     "output_type": "stream",
     "text": [
      "4/4 [==============================] - 0s 2ms/step - loss: 30.5747 - mae: 3.9519\n",
      "Mean squared error on test data:  30.574695587158203\n",
      "Mean absolute error on test data:  3.951918125152588\n"
     ]
    }
   ],
   "source": [
    "mse_nn, mae_nn = model.evaluate(X_test, y_test)\n",
    "print('Mean squared error on test data: ', mse_nn)\n",
    "print('Mean absolute error on test data: ', mae_nn)"
   ]
  },
  {
   "cell_type": "code",
   "execution_count": 16,
   "metadata": {},
   "outputs": [
    {
     "data": {
      "text/plain": [
       "array([[ 9.99364  ],\n",
       "       [19.79917  ],\n",
       "       [21.570887 ],\n",
       "       [30.119211 ],\n",
       "       [23.214699 ],\n",
       "       [22.036472 ],\n",
       "       [28.880331 ],\n",
       "       [21.311914 ],\n",
       "       [17.661844 ],\n",
       "       [21.878454 ],\n",
       "       [12.213981 ],\n",
       "       [17.639523 ],\n",
       "       [20.812693 ],\n",
       "       [34.694805 ],\n",
       "       [21.507067 ],\n",
       "       [22.275208 ],\n",
       "       [25.255611 ],\n",
       "       [20.084627 ],\n",
       "       [20.746489 ],\n",
       "       [27.275623 ],\n",
       "       [11.876075 ],\n",
       "       [12.988296 ],\n",
       "       [19.188284 ],\n",
       "       [15.296389 ],\n",
       "       [19.937174 ],\n",
       "       [24.854937 ],\n",
       "       [27.999228 ],\n",
       "       [42.430218 ],\n",
       "       [12.879499 ],\n",
       "       [25.130499 ],\n",
       "       [22.584997 ],\n",
       "       [15.506604 ],\n",
       "       [29.865616 ],\n",
       "       [24.359566 ],\n",
       "       [20.040758 ],\n",
       "       [ 4.5141616],\n",
       "       [16.056328 ],\n",
       "       [15.911571 ],\n",
       "       [25.061663 ],\n",
       "       [27.077604 ],\n",
       "       [27.935938 ],\n",
       "       [22.31457  ],\n",
       "       [18.768614 ],\n",
       "       [29.345396 ],\n",
       "       [36.7482   ],\n",
       "       [26.088833 ],\n",
       "       [32.07083  ],\n",
       "       [18.648365 ],\n",
       "       [26.549437 ],\n",
       "       [21.421768 ],\n",
       "       [37.919888 ],\n",
       "       [18.541521 ],\n",
       "       [11.11162  ],\n",
       "       [14.640031 ],\n",
       "       [31.611578 ],\n",
       "       [24.51539  ],\n",
       "       [16.516108 ],\n",
       "       [31.96109  ],\n",
       "       [32.187305 ],\n",
       "       [24.368334 ],\n",
       "       [23.617271 ],\n",
       "       [19.9414   ],\n",
       "       [18.203085 ],\n",
       "       [22.062597 ],\n",
       "       [23.16165  ],\n",
       "       [23.46922  ],\n",
       "       [19.250174 ],\n",
       "       [22.309467 ],\n",
       "       [15.516671 ],\n",
       "       [ 9.660953 ],\n",
       "       [26.308329 ],\n",
       "       [27.840704 ],\n",
       "       [23.861574 ],\n",
       "       [18.95923  ],\n",
       "       [25.430037 ],\n",
       "       [20.527504 ],\n",
       "       [23.955662 ],\n",
       "       [22.054012 ],\n",
       "       [34.03277  ],\n",
       "       [ 6.7246585],\n",
       "       [22.246866 ],\n",
       "       [33.88191  ],\n",
       "       [17.489138 ],\n",
       "       [17.809052 ],\n",
       "       [20.18879  ],\n",
       "       [16.835411 ],\n",
       "       [22.252983 ],\n",
       "       [19.342134 ],\n",
       "       [19.113483 ],\n",
       "       [29.151121 ],\n",
       "       [17.587814 ],\n",
       "       [27.712257 ],\n",
       "       [20.134333 ],\n",
       "       [28.521124 ],\n",
       "       [34.772854 ],\n",
       "       [23.780329 ],\n",
       "       [33.23838  ],\n",
       "       [35.82277  ],\n",
       "       [28.998827 ],\n",
       "       [37.371304 ],\n",
       "       [28.663301 ],\n",
       "       [19.474556 ]], dtype=float32)"
      ]
     },
     "execution_count": 16,
     "metadata": {},
     "output_type": "execute_result"
    }
   ],
   "source": [
    "classes = model.predict(X_test)\n",
    "classes"
   ]
  },
  {
   "cell_type": "code",
   "execution_count": 17,
   "metadata": {},
   "outputs": [
    {
     "name": "stdout",
     "output_type": "stream",
     "text": [
      "Mean squared error on test data:  23.195599256422906\n",
      "Mean absolute error on test data:  3.4641858124067197\n"
     ]
    }
   ],
   "source": [
    "from sklearn.linear_model import LinearRegression\n",
    "from sklearn.metrics import mean_squared_error\n",
    "from sklearn.metrics import mean_absolute_error\n",
    "\n",
    "lr_model = LinearRegression()\n",
    "lr_model.fit(X_train, y_train)\n",
    "y_pred_lr = lr_model.predict(X_test)\n",
    "mse_lr = mean_squared_error(y_test, y_pred_lr)\n",
    "mae_lr = mean_absolute_error(y_test, y_pred_lr)\n",
    "print('Mean squared error on test data: ', mse_lr)\n",
    "print('Mean absolute error on test data: ', mae_lr)"
   ]
  },
  {
   "cell_type": "code",
   "execution_count": 20,
   "metadata": {},
   "outputs": [
    {
     "name": "stdout",
     "output_type": "stream",
     "text": [
      "Mean squared error on test data:  22.37725490196078\n",
      "Mean absolute error on test data:  3.4235294117647057\n"
     ]
    }
   ],
   "source": [
    "from sklearn.tree import DecisionTreeRegressor\n",
    "\n",
    "tree = DecisionTreeRegressor()\n",
    "tree.fit(X_train, y_train)\n",
    "y_pred_tree = tree.predict(X_test)\n",
    "mse_dt = mean_squared_error(y_test, y_pred_tree)\n",
    "mae_dt = mean_absolute_error(y_test, y_pred_tree)\n",
    "print('Mean squared error on test data: ', mse_dt)\n",
    "print('Mean absolute error on test data: ', mae_dt)"
   ]
  }
 ],
 "metadata": {
  "kernelspec": {
   "display_name": "Python 3",
   "language": "python",
   "name": "python3"
  },
  "language_info": {
   "codemirror_mode": {
    "name": "ipython",
    "version": 3
   },
   "file_extension": ".py",
   "mimetype": "text/x-python",
   "name": "python",
   "nbconvert_exporter": "python",
   "pygments_lexer": "ipython3",
   "version": "3.8.5"
  }
 },
 "nbformat": 4,
 "nbformat_minor": 4
}
