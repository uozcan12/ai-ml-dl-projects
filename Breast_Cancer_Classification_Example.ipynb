{
 "cells": [
  {
   "cell_type": "code",
   "execution_count": 1,
   "metadata": {},
   "outputs": [],
   "source": [
    "from sklearn.datasets import load_breast_cancer\n",
    "from sklearn.model_selection import train_test_split\n",
    "import numpy as np"
   ]
  },
  {
   "cell_type": "code",
   "execution_count": 2,
   "metadata": {},
   "outputs": [],
   "source": [
    "X,y = load_breast_cancer(return_X_y = True)"
   ]
  },
  {
   "cell_type": "code",
   "execution_count": 3,
   "metadata": {},
   "outputs": [
    {
     "name": "stdout",
     "output_type": "stream",
     "text": [
      "X.shape: (569, 30) y.shape: (569,)\n"
     ]
    }
   ],
   "source": [
    "print(\"X.shape:\", X.shape, \"y.shape:\", y.shape)"
   ]
  },
  {
   "cell_type": "code",
   "execution_count": 4,
   "metadata": {},
   "outputs": [],
   "source": [
    "X_train, X_test, y_train, y_test = train_test_split(X, y, test_size=0.10, random_state=42)"
   ]
  },
  {
   "cell_type": "code",
   "execution_count": 5,
   "metadata": {},
   "outputs": [
    {
     "name": "stdout",
     "output_type": "stream",
     "text": [
      "{'X_train.shape': (512, 30), 'X_test.shape': (57, 30), 'y_train.shape': (512,), 'y_test.shape': (57,)}\n"
     ]
    }
   ],
   "source": [
    "print({\"X_train.shape\":X_train.shape, \n",
    "       \"X_test.shape\":X_test.shape,\n",
    "       \"y_train.shape\":y_train.shape,\n",
    "       \"y_test.shape\":y_test.shape\n",
    "      })"
   ]
  },
  {
   "cell_type": "code",
   "execution_count": 6,
   "metadata": {},
   "outputs": [],
   "source": [
    "# split_count = int(X_train.shape[0]*0.10)\n",
    "# X_val = X_train[:split_count]\n",
    "# y_val = y[:split_count]\n",
    "# print({\"X_val.shape\":X_val.shape, \n",
    "#        \"y_val.shape\":y_val.shape\n",
    "#       })"
   ]
  },
  {
   "cell_type": "markdown",
   "metadata": {},
   "source": [
    "### Let's test !!!"
   ]
  },
  {
   "cell_type": "code",
   "execution_count": 7,
   "metadata": {},
   "outputs": [
    {
     "data": {
      "text/plain": [
       "RandomForestClassifier(n_estimators=1000, random_state=42)"
      ]
     },
     "execution_count": 7,
     "metadata": {},
     "output_type": "execute_result"
    }
   ],
   "source": [
    "# Import the model we are using\n",
    "from sklearn.ensemble import RandomForestClassifier # Instantiate model with 1000 decision trees\n",
    "rf = RandomForestClassifier(n_estimators = 1000, random_state = 42)# Train the model on training data\n",
    "rf.fit(X_train, y_train)"
   ]
  },
  {
   "cell_type": "code",
   "execution_count": 8,
   "metadata": {},
   "outputs": [],
   "source": [
    "# Use the forest's predict method on the test data\n",
    "predictions = rf.predict(X_test)# Calculate the absolute errors"
   ]
  },
  {
   "cell_type": "code",
   "execution_count": 9,
   "metadata": {},
   "outputs": [
    {
     "name": "stdout",
     "output_type": "stream",
     "text": [
      "Mean Absolute Error: 0.04\n",
      "Mean Squared Error: 0.04\n",
      "R-squared scores: 0.83\n"
     ]
    }
   ],
   "source": [
    "# Import library for metrics\n",
    "from sklearn.metrics import mean_squared_error, r2_score, mean_absolute_error\n",
    "\n",
    "# Mean absolute error (MAE)\n",
    "mae = mean_absolute_error(y_test.ravel(), predictions)\n",
    "\n",
    "# Mean squared error (MSE)\n",
    "mse = mean_squared_error(y_test.ravel(), predictions)\n",
    "\n",
    "# R-squared scores\n",
    "r2 = r2_score(y_test.ravel(), predictions)\n",
    "\n",
    "# Print metrics\n",
    "print('Mean Absolute Error:', round(mae, 2))\n",
    "print('Mean Squared Error:', round(mse, 2))\n",
    "print('R-squared scores:', round(r2, 2))"
   ]
  },
  {
   "cell_type": "markdown",
   "metadata": {},
   "source": [
    "### Let's fine tuning"
   ]
  },
  {
   "cell_type": "code",
   "execution_count": 13,
   "metadata": {},
   "outputs": [
    {
     "name": "stdout",
     "output_type": "stream",
     "text": [
      "Fitting 3 folds for each of 60 candidates, totalling 180 fits\n"
     ]
    },
    {
     "name": "stderr",
     "output_type": "stream",
     "text": [
      "[Parallel(n_jobs=-1)]: Using backend LokyBackend with 16 concurrent workers.\n",
      "[Parallel(n_jobs=-1)]: Done  18 tasks      | elapsed:    1.6s\n",
      "[Parallel(n_jobs=-1)]: Done 180 out of 180 | elapsed:   15.9s finished\n"
     ]
    },
    {
     "data": {
      "text/plain": [
       "{'max_depth': 10, 'n_estimators': 200}"
      ]
     },
     "execution_count": 13,
     "metadata": {},
     "output_type": "execute_result"
    }
   ],
   "source": [
    "# Import GridSearchCV\n",
    "from sklearn.model_selection import GridSearchCV\n",
    "\n",
    "# Find the best parameters for the model\n",
    "parameters = {\n",
    "    'max_depth': [10, 20, 30,40, 50, 60, 70, 80, 90, 100],\n",
    "    'n_estimators': [100, 200, 300, 400, 500, 1000]\n",
    "}\n",
    "gridforest = GridSearchCV(rf, parameters, cv = 3, n_jobs = -1, verbose = 1)\n",
    "gridforest.fit(X_train, y_train)\n",
    "gridforest.best_params_"
   ]
  },
  {
   "cell_type": "code",
   "execution_count": 16,
   "metadata": {},
   "outputs": [],
   "source": [
    "rf = RandomForestClassifier(n_estimators = gridforest.best_params_[\"n_estimators\"], \n",
    "                            max_depth= gridforest.best_params_[\"max_depth\"], \n",
    "                            n_jobs=-1, \n",
    "                            random_state = 42)# Train the model on training data\n",
    "rf.fit(X_train, y_train)\n",
    "predictions = rf.predict(X_test)# Calculate the absolute errors"
   ]
  },
  {
   "cell_type": "code",
   "execution_count": 17,
   "metadata": {},
   "outputs": [
    {
     "name": "stdout",
     "output_type": "stream",
     "text": [
      "Mean Absolute Error: 0.04\n",
      "Mean Squared Error: 0.04\n",
      "R-squared scores: 0.83\n"
     ]
    }
   ],
   "source": [
    "# Mean absolute error (MAE)\n",
    "mae = mean_absolute_error(y_test.ravel(), predictions)\n",
    "\n",
    "# Mean squared error (MSE)\n",
    "mse = mean_squared_error(y_test.ravel(), predictions)\n",
    "\n",
    "# R-squared scores\n",
    "r2 = r2_score(y_test.ravel(), predictions)\n",
    "\n",
    "# Print metrics\n",
    "print('Mean Absolute Error:', round(mae, 2))\n",
    "print('Mean Squared Error:', round(mse, 2))\n",
    "print('R-squared scores:', round(r2, 2))"
   ]
  }
 ],
 "metadata": {
  "kernelspec": {
   "display_name": "Python 3",
   "language": "python",
   "name": "python3"
  },
  "language_info": {
   "codemirror_mode": {
    "name": "ipython",
    "version": 3
   },
   "file_extension": ".py",
   "mimetype": "text/x-python",
   "name": "python",
   "nbconvert_exporter": "python",
   "pygments_lexer": "ipython3",
   "version": "3.7.9"
  }
 },
 "nbformat": 4,
 "nbformat_minor": 2
}
